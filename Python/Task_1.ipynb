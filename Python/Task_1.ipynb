{
  "nbformat": 4,
  "nbformat_minor": 0,
  "metadata": {
    "colab": {
      "provenance": []
    },
    "kernelspec": {
      "name": "python3",
      "display_name": "Python 3"
    },
    "language_info": {
      "name": "python"
    }
  },
  "cells": [
    {
      "cell_type": "code",
      "execution_count": 4,
      "metadata": {
        "colab": {
          "base_uri": "https://localhost:8080/"
        },
        "id": "ElfBw-prULn-",
        "outputId": "2f51f94d-f40b-4c22-917b-cdd9f09242f5"
      },
      "outputs": [
        {
          "output_type": "stream",
          "name": "stdout",
          "text": [
            "4\n"
          ]
        }
      ],
      "source": [
        "def countFours(list):\n",
        "  print(list.count(4))\n",
        "\n",
        "a = [2,4,2,5,8,7,4,9,6,4,3,4]\n",
        "countFours(a)"
      ]
    }
  ]
}