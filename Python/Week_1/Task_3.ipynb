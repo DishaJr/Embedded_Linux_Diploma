{
  "nbformat": 4,
  "nbformat_minor": 0,
  "metadata": {
    "colab": {
      "provenance": []
    },
    "kernelspec": {
      "name": "python3",
      "display_name": "Python 3"
    },
    "language_info": {
      "name": "python"
    }
  },
  "cells": [
    {
      "cell_type": "code",
      "execution_count": 10,
      "metadata": {
        "colab": {
          "base_uri": "https://localhost:8080/"
        },
        "id": "ElfBw-prULn-",
        "outputId": "df20b378-af94-4836-d5ec-4d7ac16e3111"
      },
      "outputs": [
        {
          "output_type": "stream",
          "name": "stdout",
          "text": [
            "/root\n",
            "Variable not set\n"
          ]
        }
      ],
      "source": [
        "import os\n",
        "\n",
        "def get_env_var(variable):\n",
        "  print(os.getenv(variable, 'Variable not set'))\n",
        "\n",
        "get_env_var(\"HOME\")\n",
        "get_env_var(\"USER\")"
      ]
    }
  ]
}