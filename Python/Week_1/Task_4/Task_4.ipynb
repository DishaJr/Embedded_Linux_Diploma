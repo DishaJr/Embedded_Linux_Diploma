{
  "nbformat": 4,
  "nbformat_minor": 0,
  "metadata": {
    "colab": {
      "provenance": []
    },
    "kernelspec": {
      "name": "python3",
      "display_name": "Python 3"
    },
    "language_info": {
      "name": "python"
    }
  },
  "cells": [
    {
      "cell_type": "code",
      "execution_count": null,
      "metadata": {
        "id": "ElfBw-prULn-"
      },
      "outputs": [],
      "source": [
        "import math\n",
        "\n",
        "def area(radius):\n",
        "  print(math.pi*radius*radius)\n",
        "\n",
        "rad = input(\"Enter the radius of the circle:\")\n",
        "area(rad)"
      ]
    }
  ]
}