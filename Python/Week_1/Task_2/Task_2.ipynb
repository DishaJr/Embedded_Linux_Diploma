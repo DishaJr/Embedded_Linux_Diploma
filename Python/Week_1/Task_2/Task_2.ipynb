{
  "nbformat": 4,
  "nbformat_minor": 0,
  "metadata": {
    "colab": {
      "provenance": []
    },
    "kernelspec": {
      "name": "python3",
      "display_name": "Python 3"
    },
    "language_info": {
      "name": "python"
    }
  },
  "cells": [
    {
      "cell_type": "code",
      "execution_count": 7,
      "metadata": {
        "colab": {
          "base_uri": "https://localhost:8080/"
        },
        "id": "ElfBw-prULn-",
        "outputId": "86247387-0588-4431-87c1-01d78bad5452"
      },
      "outputs": [
        {
          "output_type": "stream",
          "name": "stdout",
          "text": [
            "Letter passed is a vowel letter.\n",
            "Letter passed is not a vowel letter.\n",
            "Letter passed is a vowel letter.\n"
          ]
        }
      ],
      "source": [
        "def isVowel(letter):\n",
        "  if letter in ['A','E','I','O','U','a','e','i','o','u']:\n",
        "    print(\"Letter passed is a vowel letter.\")\n",
        "  else:\n",
        "    print(\"Letter passed is not a vowel letter.\")\n",
        "\n",
        "isVowel(\"a\")\n",
        "isVowel(\"C\")\n",
        "isVowel(\"E\")"
      ]
    }
  ]
}