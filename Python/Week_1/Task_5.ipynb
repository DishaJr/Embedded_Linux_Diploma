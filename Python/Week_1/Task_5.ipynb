{
  "nbformat": 4,
  "nbformat_minor": 0,
  "metadata": {
    "colab": {
      "provenance": []
    },
    "kernelspec": {
      "name": "python3",
      "display_name": "Python 3"
    },
    "language_info": {
      "name": "python"
    }
  },
  "cells": [
    {
      "cell_type": "code",
      "execution_count": 7,
      "metadata": {
        "colab": {
          "base_uri": "https://localhost:8080/"
        },
        "id": "ShVzw41shf2t",
        "outputId": "ad07bb72-d737-4579-a9cf-b68949a14149"
      },
      "outputs": [
        {
          "output_type": "stream",
          "name": "stdout",
          "text": [
            "Enter year:2024\n",
            "Enter month:5\n",
            "      May 2024\n",
            "Mo Tu We Th Fr Sa Su\n",
            "       1  2  3  4  5\n",
            " 6  7  8  9 10 11 12\n",
            "13 14 15 16 17 18 19\n",
            "20 21 22 23 24 25 26\n",
            "27 28 29 30 31\n",
            "\n"
          ]
        }
      ],
      "source": [
        "import calendar\n",
        "\n",
        "def date(year, month):\n",
        "  print(calendar.month(int(year), int(month)))\n",
        "\n",
        "year = input(\"Enter year:\")\n",
        "month  = input(\"Enter month:\")\n",
        "\n",
        "date(year, month)"
      ]
    }
  ]
}