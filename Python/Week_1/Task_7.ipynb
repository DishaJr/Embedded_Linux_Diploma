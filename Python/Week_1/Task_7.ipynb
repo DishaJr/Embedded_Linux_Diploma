{
  "nbformat": 4,
  "nbformat_minor": 0,
  "metadata": {
    "colab": {
      "provenance": []
    },
    "kernelspec": {
      "name": "python3",
      "display_name": "Python 3"
    },
    "language_info": {
      "name": "python"
    }
  },
  "cells": [
    {
      "cell_type": "code",
      "execution_count": 22,
      "metadata": {
        "colab": {
          "base_uri": "https://localhost:8080/"
        },
        "id": "ShVzw41shf2t",
        "outputId": "94b311b0-3df7-4143-f88f-843d3ae4630e"
      },
      "outputs": [
        {
          "output_type": "stream",
          "name": "stdout",
          "text": [
            "{'ip': '34.168.36.104', 'hostname': '104.36.168.34.bc.googleusercontent.com', 'city': 'The Dalles', 'region': 'Oregon', 'country': 'US', 'loc': '45.5946,-121.1787', 'org': 'AS396982 Google LLC', 'postal': '97058', 'timezone': 'America/Los_Angeles', 'readme': 'https://ipinfo.io/missingauth'}\n"
          ]
        }
      ],
      "source": [
        "import requests\n",
        "import json\n",
        "\n",
        "def json_url(url):\n",
        "  try:\n",
        "    response = requests.get(url)\n",
        "    response.raise_for_status()\n",
        "    data = json.loads(response.content)\n",
        "    return data\n",
        "  except requests.exceptions.RequestException as e:\n",
        "    print(f\"Error fetching data from {url}: {e}\")\n",
        "    return None\n",
        "\n",
        "url = 'https://api.ipify.org/?format=json'\n",
        "json_data = json_url(url)\n",
        "\n",
        "if json_data:\n",
        "  ip_data = json_url(f\"https://ipinfo.io/{json_data['ip']}\")\n",
        "  print(ip_data)\n",
        "\n",
        "else:\n",
        "  print(\"Failed to retrieve JSON data.\")\n"
      ]
    }
  ]
}